{
 "cells": [
  {
   "cell_type": "markdown",
   "metadata": {},
   "source": [
    "# Simulação Estocástica: Distribuição de Poisson"
   ]
  },
  {
   "cell_type": "markdown",
   "metadata": {},
   "source": [
    "Francisco Aparecido Rodrigues, francisco@icmc.usp.br.<br>\n",
    "Universidade de São Paulo, São Carlos, Brasil.<br>\n",
    "https://sites.icmc.usp.br/francisco <br>\n",
    "Copyright: Creative Commons"
   ]
  },
  {
   "cell_type": "markdown",
   "metadata": {},
   "source": [
    "<hr>"
   ]
  },
  {
   "cell_type": "markdown",
   "metadata": {},
   "source": [
    "Para gerarmos dados com uma distribuição de Poisson, podemos usar a biblioteca Numpy."
   ]
  },
  {
   "cell_type": "code",
   "execution_count": 7,
   "metadata": {},
   "outputs": [
    {
     "data": {
      "image/png": "[encoded data removed]",
      "text/plain": [
       "<Figure size 432x288 with 1 Axes>"
      ]
     },
     "metadata": {
      "needs_background": "light"
     },
     "output_type": "display_data"
    }
   ],
   "source": [
    "import numpy as np\n",
    "import matplotlib.pyplot as plt\n",
    "\n",
    "lbd = 10 # taxa\n",
    "n = 100 # numero de pontos extraídos de uma distribuição de Poisson\n",
    "P = np.random.poisson(lbd, n)\n",
    "k = np.arange(0, np.max(P))\n",
    "count, bins, ignored = plt.hist(P, bins=k, density=True, color='#0504aa',alpha=0.7, \n",
    "                                rwidth=0.9)\n",
    "plt.xlabel('k', fontsize = 15)\n",
    "plt.ylabel('P(k)',fontsize = 15)\n",
    "plt.show(True)"
   ]
  },
  {
   "cell_type": "markdown",
   "metadata": {},
   "source": [
    "## Lei dos eventos raros"
   ]
  },
  {
   "cell_type": "markdown",
   "metadata": {},
   "source": [
    "A distribuição de Poisson é obtida quando aumentamos o número de experimentos e a probabilidade e sucesso é próxima de zero.\n",
    "$$\n",
    "\\lim_{n\\rightarrow \\infty, p\\rightarrow 0} \\frac{n!}{(n-k)!k!}p^k(1-p)^{n-k} = \\frac{e^{-\\lambda}\\lambda^k}{k!}\n",
    "$$"
   ]
  },
  {
   "cell_type": "markdown",
   "metadata": {},
   "source": [
    "Na simulação abaixo, vemos que se diminuirmos a probabilidade de sucesso, a distribuição binomial se aproxima da Poisson."
   ]
  },
  {
   "cell_type": "code",
   "execution_count": 8,
   "metadata": {},
   "outputs": [
    {
     "name": "stderr",
     "output_type": "stream",
     "text": [
      "C:\\Users\\hiram\\AppData\\Local\\Temp\\ipykernel_57408\\2591333990.py:33: RuntimeWarning: invalid value encountered in double_scalars\n",
      "  Pkt[k] = (factorial(n)/(factorial(n-k)*factorial(k)))*(p**k)*(1-p)**(n-k)\n"
     ]
    },
    {
     "ename": "OverflowError",
     "evalue": "(34, 'Result too large')",
     "output_type": "error",
     "traceback": [
      "\u001b[1;31m---------------------------------------------------------------------------\u001b[0m",
      "\u001b[1;31mOverflowError\u001b[0m                             Traceback (most recent call last)",
      "Input \u001b[1;32mIn [8]\u001b[0m, in \u001b[0;36m<cell line: 11>\u001b[1;34m()\u001b[0m\n\u001b[0;32m     39\u001b[0m lbd \u001b[38;5;241m=\u001b[39m n\u001b[38;5;241m*\u001b[39mp\n\u001b[0;32m     40\u001b[0m \u001b[38;5;28;01mfor\u001b[39;00m k \u001b[38;5;129;01min\u001b[39;00m \u001b[38;5;28mrange\u001b[39m(\u001b[38;5;241m0\u001b[39m,n\u001b[38;5;241m+\u001b[39m\u001b[38;5;241m1\u001b[39m): \u001b[38;5;66;03m# varia de 0 até n\u001b[39;00m\n\u001b[1;32m---> 41\u001b[0m     Po[k] \u001b[38;5;241m=\u001b[39m (np\u001b[38;5;241m.\u001b[39mexp(\u001b[38;5;241m-\u001b[39mlbd)\u001b[38;5;241m*\u001b[39m\u001b[43mlbd\u001b[49m\u001b[38;5;241;43m*\u001b[39;49m\u001b[38;5;241;43m*\u001b[39;49m\u001b[43mk\u001b[49m)\u001b[38;5;241m/\u001b[39mfactorial(k)\n\u001b[0;32m     42\u001b[0m plt\u001b[38;5;241m.\u001b[39mplot(vo, Po, \u001b[38;5;124m'\u001b[39m\u001b[38;5;124mk--\u001b[39m\u001b[38;5;124m'\u001b[39m, label\u001b[38;5;241m=\u001b[39m\u001b[38;5;124m'\u001b[39m\u001b[38;5;124mProb. Teórica Poisson\u001b[39m\u001b[38;5;124m'\u001b[39m)\n\u001b[0;32m     43\u001b[0m plt\u001b[38;5;241m.\u001b[39mtitle(\u001b[38;5;124m'\u001b[39m\u001b[38;5;124mp = \u001b[39m\u001b[38;5;124m'\u001b[39m\u001b[38;5;241m+\u001b[39m \u001b[38;5;28mstr\u001b[39m(p))\n",
      "\u001b[1;31mOverflowError\u001b[0m: (34, 'Result too large')"
     ]
    },
    {
     "data": {
      "image/png": "[encoded data removed]",
      "text/plain": [
       "<Figure size 720x432 with 1 Axes>"
      ]
     },
     "metadata": {
      "needs_background": "light"
     },
     "output_type": "display_data"
    }
   ],
   "source": [
    "from random import seed\n",
    "from matplotlib import pyplot as plt\n",
    "import numpy as np\n",
    "from scipy.stats import binom\n",
    "from scipy.special import factorial\n",
    "\n",
    "seed(100) # semente do gerador de números aleatórios\n",
    "\n",
    "vp = [0.5, 0.2, 0.05] # probabilidade de sucesso\n",
    "n = 1000 # numero de experimentos\n",
    "for p in vp:\n",
    "    Pk = np.zeros(n)\n",
    "    vk = np.arange(0,n)\n",
    "    ns = 1000 # numero de simulacoes\n",
    "\n",
    "    for j in range(0,ns): # faça para ns simulacoes\n",
    "        S = 0 # numero de sucessos\n",
    "        for i in range(0,n): # faça para n experimentos\n",
    "            r = np.random.uniform() #\n",
    "            if(r <= p): # se o sucesso\n",
    "                S = S + 1\n",
    "        Pk[S] = Pk[S] + 1\n",
    "    Pk=Pk/sum(Pk) # normaliza a distribuição de probabilidade\n",
    "    #plt.plot(vk, Pk, 'ro')\n",
    "    plt.figure(figsize=(10,6))\n",
    "    plt.xlim(np.min(vk[Pk>0]),np.max(vk[Pk>0]))\n",
    "    plt.bar(vk, Pk, label='Simulacao')\n",
    "\n",
    "    # curva teórica\n",
    "    Pkt = np.zeros(n+1) # valores teóricos da probabilidade\n",
    "    vkt = np.arange(0,n+1) # variação em k\n",
    "    for k in range(0,n+1): # varia de 0 até n\n",
    "        Pkt[k] = (factorial(n)/(factorial(n-k)*factorial(k)))*(p**k)*(1-p)**(n-k)\n",
    "    plt.plot(vkt, Pkt, 'r--', label='Prob. Teórica Binomial')\n",
    "\n",
    "    # curva teórica\n",
    "    Po = np.zeros(n+1) # valores teóricos da probabilidade\n",
    "    vo = np.arange(0,n+1) # variação em k\n",
    "    lbd = n*p\n",
    "    for k in range(0,n+1): # varia de 0 até n\n",
    "        Po[k] = (np.exp(-lbd)*lbd**k)/factorial(k)\n",
    "    plt.plot(vo, Po, 'k--', label='Prob. Teórica Poisson')\n",
    "    plt.title('p = '+ str(p))\n",
    "    plt.xlabel('k', fontsize = 15)\n",
    "    plt.ylabel('P(k)',fontsize = 15)\n",
    "    plt.legend()\n",
    "    plt.show(True)"
   ]
  },
  {
   "cell_type": "code",
   "execution_count": null,
   "metadata": {},
   "outputs": [],
   "source": []
  }
 ],
 "metadata": {
  "kernelspec": {
   "display_name": "Python 3 (ipykernel)",
   "language": "python",
   "name": "python3"
  },
  "language_info": {
   "codemirror_mode": {
    "name": "ipython",
    "version": 3
   },
   "file_extension": ".py",
   "mimetype": "text/x-python",
   "name": "python",
   "nbconvert_exporter": "python",
   "pygments_lexer": "ipython3",
   "version": "3.9.12"
  }
 },
 "nbformat": 4,
 "nbformat_minor": 2
}
