{
 "cells": [
  {
   "cell_type": "markdown",
   "metadata": {},
   "source": [
    "# Simulação Estocástica: Distribuição Geométrica"
   ]
  },
  {
   "cell_type": "markdown",
   "metadata": {},
   "source": [
    "Francisco Aparecido Rodrigues, francisco@icmc.usp.br.<br>\n",
    "Universidade de São Paulo, São Carlos, Brasil.<br>\n",
    "https://sites.icmc.usp.br/francisco <br>\n",
    "Copyright: Creative Commons"
   ]
  },
  {
   "cell_type": "markdown",
   "metadata": {},
   "source": [
    "<hr>"
   ]
  },
  {
   "cell_type": "markdown",
   "metadata": {},
   "source": [
    "Uma variável aleatória X segue uma distribuição geométrica se:\n",
    "$$\n",
    "P(X=k) = p(1-p)^{k-1}, \\quad k=0,1,\\ldots\n",
    "$$"
   ]
  },
  {
   "cell_type": "markdown",
   "metadata": {},
   "source": [
    "Para gerarmos dados com uma distribuição geométrica, podemos usar a biblioteca Numpy."
   ]
  },
  {
   "cell_type": "code",
   "execution_count": 23,
   "metadata": {},
   "outputs": [
    {
     "data": {
      "image/png": "[encoded data removed]",
      "text/plain": [
       "<Figure size 432x288 with 1 Axes>"
      ]
     },
     "metadata": {
      "needs_background": "light"
     },
     "output_type": "display_data"
    },
    {
     "name": "stdout",
     "output_type": "stream",
     "text": [
      "Valor esperado Teórico: 5.0\n",
      "Valor esperado pela simulação: 4.9447\n"
     ]
    }
   ],
   "source": [
    "import numpy as np\n",
    "import matplotlib.pyplot as plt\n",
    "\n",
    "p = 0.2 # probabilidade de sucesso\n",
    "n = 10000 # numero de pontos extraídos de uma distribuição de Geométrica\n",
    "X = np.random.geometric(p, size=n)\n",
    "k = np.arange(0, np.max(X))\n",
    "count, bins, ignored = plt.hist(X, bins=k, density=True, color='#0504aa',alpha=0.7, \n",
    "                                rwidth=0.9)\n",
    "plt.xlabel('k', fontsize = 15)\n",
    "plt.ylabel('P(k)',fontsize = 15)\n",
    "plt.show(True)\n",
    "print(\"Valor esperado Teórico:\", 1/p)\n",
    "print(\"Valor esperado pela simulação:\", np.sum(X)/len(X))"
   ]
  },
  {
   "cell_type": "markdown",
   "metadata": {},
   "source": [
    "Para simularmos o experimento, vamos considerar experimentos que são realizados até que um sucesso ocorra. Seria como no lançamento de uma moeda, que é lançada até que uma cara (sucesso) ocorra. Notem que $X=k$ indica $k$ experimentos para que ocorram $k-1$ falhas seguidas de um sucesso."
   ]
  },
  {
   "cell_type": "code",
   "execution_count": 18,
   "metadata": {
    "scrolled": true
   },
   "outputs": [
    {
     "data": {
      "image/png": "[encoded data removed]",
      "text/plain": [
       "<Figure size 432x288 with 1 Axes>"
      ]
     },
     "metadata": {
      "needs_background": "light"
     },
     "output_type": "display_data"
    }
   ],
   "source": [
    "from random import seed\n",
    "from matplotlib import pyplot as plt\n",
    "import numpy as np\n",
    "\n",
    "p = 0.2 #chance de sucesso\n",
    "X = [] # Armazena o número de experimentos\n",
    "ns = 10000 # numero de simulacoes\n",
    "\n",
    "for i in range(0,ns):# para ns simulacoes\n",
    "    k = 0 # numero de experimentos\n",
    "    s = False # indica uma falha\n",
    "    while s == False: # enquanto nao sair um sucesso, faca\n",
    "        r = np.random.uniform() # sorteia um numero entre 0 e 1\n",
    "        if(r <= p): # se o sucesso\n",
    "            s = True # indica sucesso\n",
    "            k = k + 1 # incrementa o numero de experimentos\n",
    "        else: # caso falha\n",
    "            k = k + 1 # incrementa o numero de experimentos\n",
    "    X.append(k) # guarda o numero de experimentos\n",
    "\n",
    "k = np.arange(0, np.max(X))\n",
    "count, bins, ignored = plt.hist(X, bins=k, density=True, color='#0504aa',alpha=0.7, \n",
    "                                rwidth=0.9)\n",
    "plt.xlabel('k', fontsize = 15)\n",
    "plt.ylabel('P(k)',fontsize = 15)\n",
    "plt.show(True)"
   ]
  },
  {
   "cell_type": "markdown",
   "metadata": {},
   "source": [
    "### Valor esperado"
   ]
  },
  {
   "cell_type": "markdown",
   "metadata": {},
   "source": [
    "O valor esperado teórico: $E[X] = \\frac{1}{p}$"
   ]
  },
  {
   "cell_type": "code",
   "execution_count": 19,
   "metadata": {},
   "outputs": [
    {
     "name": "stdout",
     "output_type": "stream",
     "text": [
      "Valor esperado: 5.0\n"
     ]
    }
   ],
   "source": [
    "print(\"Valor esperado:\", 1/p)"
   ]
  },
  {
   "cell_type": "markdown",
   "metadata": {},
   "source": [
    "E através da simulação: $$\\mu = \\frac{1}{n_s}\\sum_{i=1}^{n_s}X_i$$"
   ]
  },
  {
   "cell_type": "code",
   "execution_count": 20,
   "metadata": {},
   "outputs": [
    {
     "name": "stdout",
     "output_type": "stream",
     "text": [
      "Valor esperado pela simulação: 4.9912\n"
     ]
    }
   ],
   "source": [
    "print(\"Valor esperado pela simulação:\", np.sum(X)/len(X))"
   ]
  },
  {
   "cell_type": "markdown",
   "metadata": {},
   "source": [
    "### Variância"
   ]
  },
  {
   "cell_type": "markdown",
   "metadata": {},
   "source": [
    "A variância teórica: $$V(X)=\\frac{1-p}{p^2}$$"
   ]
  },
  {
   "cell_type": "code",
   "execution_count": 21,
   "metadata": {},
   "outputs": [
    {
     "name": "stdout",
     "output_type": "stream",
     "text": [
      "Variância teórica: 19.999999999999996\n"
     ]
    }
   ],
   "source": [
    "print(\"Variância teórica:\", (1-p)/p**2)"
   ]
  },
  {
   "cell_type": "markdown",
   "metadata": {},
   "source": [
    "Pela simulação: $$V(X) = \\frac{1}{n_s}\\sum_{i=1}^{n_s}X_i^2 - \\mu^2$$"
   ]
  },
  {
   "cell_type": "code",
   "execution_count": 22,
   "metadata": {},
   "outputs": [
    {
     "name": "stdout",
     "output_type": "stream",
     "text": [
      "Variância calculada pela simulação: 19.66992256\n"
     ]
    }
   ],
   "source": [
    "def Variance(X):\n",
    "    n = len(X)\n",
    "    E2 = 0\n",
    "    E = 0\n",
    "    for i in range(0,len(X)):\n",
    "        E2 = E2 + X[i]**2\n",
    "        E = E + X[i]\n",
    "    E2 = E2/n\n",
    "    E = E/n\n",
    "    V = E2 - (E)**2\n",
    "    return V\n",
    "    \n",
    "print(\"Variância calculada pela simulação:\", Variance(X))"
   ]
  },
  {
   "cell_type": "code",
   "execution_count": null,
   "metadata": {},
   "outputs": [],
   "source": []
  },
  {
   "cell_type": "code",
   "execution_count": null,
   "metadata": {},
   "outputs": [],
   "source": []
  }
 ],
 "metadata": {
  "kernelspec": {
   "display_name": "Python 3 (ipykernel)",
   "language": "python",
   "name": "python3"
  },
  "language_info": {
   "codemirror_mode": {
    "name": "ipython",
    "version": 3
   },
   "file_extension": ".py",
   "mimetype": "text/x-python",
   "name": "python",
   "nbconvert_exporter": "python",
   "pygments_lexer": "ipython3",
   "version": "3.9.12"
  }
 },
 "nbformat": 4,
 "nbformat_minor": 2
}
